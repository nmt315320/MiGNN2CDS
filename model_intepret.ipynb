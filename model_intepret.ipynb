{
 "cells": [
  {
   "cell_type": "code",
   "execution_count": 7,
   "id": "f5f1e7f4",
   "metadata": {},
   "outputs": [],
   "source": [
    "import os\n",
    "import dgl\n",
    "import time\n",
    "import torch\n",
    "import seaborn\n",
    "import pandas as pd\n",
    "import numpy as np\n",
    "from tqdm import tqdm\n",
    "import argparse\n",
    "from warnings import simplefilter\n",
    "import matplotlib.pyplot as plt\n",
    "from sklearn.model_selection import KFold, StratifiedKFold\n",
    "from torch.utils.data import TensorDataset\n",
    "# from load_data import load_data, load_graph, remove_graph\n",
    "#     get_data_loaders,, topk_filtering\n",
    "from load_data import topk_filtering\n",
    "from model import Model\n",
    "from utils import get_metrics, get_metrics_auc, set_seed, \\\n",
    "    plot_result_auc, plot_result_aupr, checkpoint"
   ]
  },
  {
   "cell_type": "code",
   "execution_count": 8,
   "id": "e543593a",
   "metadata": {
    "pycharm": {
     "name": "#%%\n"
    }
   },
   "outputs": [],
   "source": [
    "def load_data(dataset, k):\n",
    "    # drug_drug = pd.read_csv('./dataset/{}/drug_drug.csv'.format(dataset), header=None)\n",
    "    # drug_drug_link = topk_filtering(drug_drug.values, k)\n",
    "    # disease_disease = pd.read_csv('./dataset/{}/disease_disease.csv'.format(dataset), header=None)\n",
    "    # disease_disease_link = topk_filtering(disease_disease.values, k)\n",
    "    # drug_disease = pd.read_csv('./dataset/{}/drug_disease.csv'.format(dataset), header=None)\n",
    "    # drug_disease_link = np.array(np.where(drug_disease == 1)).T\n",
    "    # disease_drug_link = np.array(np.where(drug_disease.T == 1)).T\n",
    "    drug_drug = pd.read_csv('./dataset/{}/gene_sim.csv'.format(dataset), header=None)\n",
    "    drug_drug_link = topk_filtering(drug_drug.values, k)\n",
    "    disease_disease = pd.read_csv('./dataset/{}/drug_ssim.csv'.format(dataset), header=None)\n",
    "    disease_disease_link = topk_filtering(disease_disease.values, k)\n",
    "    drug_disease = pd.read_csv('./dataset/{}/drug_gene.csv'.format(dataset), header=None)\n",
    "    drug_disease_link = np.array(np.where(drug_disease == 1)).T\n",
    "    disease_drug_link = np.array(np.where(drug_disease.T == 1)).T\n",
    "    links = {'drug-drug': drug_drug_link, 'drug-disease': drug_disease_link,\n",
    "             'disease-disease': disease_disease_link}\n",
    "    graph_data = {('drug', 'drug-drug', 'drug'): (torch.tensor(drug_drug_link[:, 0]),\n",
    "                                                  torch.tensor(drug_drug_link[:, 1])),\n",
    "                  ('drug', 'drug-disease', 'disease'): (torch.tensor(drug_disease_link[:, 0]),\n",
    "                                                        torch.tensor(drug_disease_link[:, 1])),\n",
    "                  ('disease', 'disease-drug', 'drug'): (torch.tensor(disease_drug_link[:, 0]),\n",
    "                                                        torch.tensor(disease_drug_link[:, 1])),\n",
    "                  ('disease', 'disease-disease', 'disease'): (torch.tensor(disease_disease_link[:, 0]),\n",
    "                                                              torch.tensor(disease_disease_link[:, 1]))}\n",
    "    g = dgl.heterograph(graph_data)\n",
    "    drug_feature = np.hstack((drug_drug.values, np.zeros(drug_disease.shape)))\n",
    "    dis_feature = np.hstack((np.zeros(drug_disease.T.shape), disease_disease.values))\n",
    "    g.nodes['drug'].data['h'] = torch.from_numpy(drug_feature).to(torch.float32)\n",
    "    g.nodes['disease'].data['h'] = torch.from_numpy(dis_feature).to(torch.float32)\n",
    "    data = np.load('{}_temp_20k/data.npy'.format(dataset, k))\n",
    "    label = np.load('{}_temp_20k/label.npy'.format(dataset, k))\n",
    "    if '{}_temp_{}k'.format(dataset, k) in os.listdir():\n",
    "        print('Load data and label(It takes time)...')\n",
    "\n",
    "        data = np.load('{}_temp_{}k/data.npy'.format(dataset, k))\n",
    "        label = np.load('{}_temp_{}k/label.npy'.format(dataset, k))\n",
    "    print('Data prepared !')\n",
    "    return g, data, label"
   ]
  },
  {
   "cell_type": "code",
   "execution_count": 9,
   "outputs": [
    {
     "name": "stdout",
     "output_type": "stream",
     "text": [
      "Data \n"
     ]
    }
   ],
   "source": [
    "print('Data ')\n",
    "# Some settings to load the pre-trained model with accurate path\n",
    "seed = 0\n",
    "batch_size = 2048\n",
    "k = 5\n",
    "nfold = 5\n",
    "aggregate_type = 'mean'\n",
    "hidden_feats = 128\n",
    "learning_rate = 0.001\n",
    "epoch = 1000\n",
    "topk = 3\n",
    "num_layer = 2\n",
    "dropout = 0.4\n",
    "batch_norm = False\n",
    "path = 'result/B-dataset'\n",
    "# Define the query dataset, drug, and disease\n",
    "dataset = 'B-dataset'\n",
    "drug_id = 270\n",
    "disease_id = 217"
   ],
   "metadata": {
    "collapsed": false,
    "pycharm": {
     "name": "#%%\n"
    }
   }
  },
  {
   "cell_type": "code",
   "execution_count": 10,
   "outputs": [
    {
     "name": "stdout",
     "output_type": "stream",
     "text": [
      "Data prepared !\n",
      "59077\n",
      "tensor([[270, 270, 217, 217],\n",
      "        [270,   0, 217, 217],\n",
      "        [270,   1, 217, 217],\n",
      "        ...,\n",
      "        [270, 242, 190, 217],\n",
      "        [270, 242, 193, 217],\n",
      "        [270, 242, 216, 217]])\n",
      "<class 'torch.Tensor'>\n",
      "1\n",
      "441\n",
      "<class 'numpy.ndarray'>\n",
      "<class 'pandas.core.frame.DataFrame'>\n",
      "1\n",
      "<class 'torch.Tensor'>\n",
      "1\n",
      "441\n",
      "<class 'numpy.ndarray'>\n",
      "<class 'pandas.core.frame.DataFrame'>\n",
      "2\n",
      "<class 'torch.Tensor'>\n",
      "1\n",
      "441\n",
      "<class 'numpy.ndarray'>\n",
      "<class 'pandas.core.frame.DataFrame'>\n",
      "3\n",
      "<class 'torch.Tensor'>\n",
      "1\n",
      "441\n",
      "<class 'numpy.ndarray'>\n",
      "<class 'pandas.core.frame.DataFrame'>\n",
      "4\n",
      "<class 'torch.Tensor'>\n",
      "1\n",
      "441\n",
      "<class 'numpy.ndarray'>\n",
      "<class 'pandas.core.frame.DataFrame'>\n",
      "5\n",
      "Top5 Attentions: [0. 0. 0. 0. 0.]\n",
      "Top5 Meta-path InstanIces:\n"
     ]
    },
    {
     "data": {
      "text/plain": "array([[270, 270, 117, 217],\n       [270, 270, 115, 217],\n       [270, 180, 217, 217],\n       [270, 142, 217, 217],\n       [270, 121, 217, 217]], dtype=int64)"
     },
     "execution_count": 10,
     "metadata": {},
     "output_type": "execute_result"
    }
   ],
   "source": [
    "# Load data\n",
    "g, data, label = load_data(dataset, k)\n",
    "data = torch.tensor(data)\n",
    "label = torch.tensor(label)\n",
    "feature = {'drug': g.nodes['drug'].data['h'],\n",
    "           'disease': g.nodes['disease'].data['h']}\n",
    "# Load pre-trained MilGNet model\n",
    "model_d = []\n",
    "attns = []\n",
    "\n",
    "for idx in range(nfold):\n",
    "\n",
    "    model = Model(g.etypes,\n",
    "            {'drug'\n",
    "             : feature['drug'].shape[1],\n",
    "             'disease': feature['disease'].shape[1]},\n",
    "                      hidden_feats=hidden_feats,\n",
    "                      num_emb_layers=num_layer,\n",
    "                      agg_type=aggregate_type,\n",
    "                      dropout=dropout,\n",
    "                      bn=batch_norm,\n",
    "                      k=topk)\n",
    "\n",
    "    # model.load_state_dict(\n",
    "    #     torch.load('result/B-dataset/'\n",
    "    #                f'k{k}_topk{topk}_nl{num_layer}_ep{epoch}_'\n",
    "    #                f'lr{learning_rate}_dp{dropout}_bs{batch_size}_'\n",
    "    #                f'hf{hidden_feats}_{seed}/model_{idx+1}.pkl'\n",
    "    #               ,map_location='cpu' ))\n",
    "    model.load_state_dict(\n",
    "        torch.load('result/B-dataset/saved_421/'\n",
    "                   f'model_{idx+1}.pkl'\n",
    "                  ,map_location='cpu' ))\n",
    "\n",
    "    model_d.append(model)\n",
    "\n",
    "# Define the data to be used for generating the instance attentions\n",
    "print((drug_id)*g.num_nodes('disease')+\n",
    "                 disease_id)\n",
    "print(data[59077])\n",
    "pred_data = data[(drug_id)*g.num_nodes('disease')+\n",
    "                 disease_id].unsqueeze(dim=0)\n",
    "\n",
    "i=0\n",
    "attns = np.zeros(k*k+2*k+1)\n",
    "\n",
    "for model in model_d:\n",
    "    model.eval()\n",
    "\n",
    "    pred, attn = model(g, feature, pred_data)\n",
    "\n",
    "    a=attn.detach().numpy().squeeze()\n",
    "    print(type(attn))\n",
    "    print(len(attn))\n",
    "    print(len(attn.detach().numpy().squeeze()))\n",
    "    print(type(attn.detach().numpy().squeeze()))\n",
    "    df=pd.DataFrame(a)\n",
    "\n",
    "    print(type(df))\n",
    "    df.to_excel('result/B-dataset/saved_421/'\n",
    "                   f'{i+1}.xlsx',index=False)\n",
    "    # print(111)\n",
    "    i =i+1\n",
    "    # attns += attn.detach().numpy().squeeze()\n",
    "    # attns=attns/ nfold\n",
    "    # print(attn.detach().numpy().squeeze()/nfold)\n",
    "    print(i)\n",
    "\n",
    "# Visualize the attention coefficient distribution\n",
    "\n",
    "# seaborn.set(style='white')\n",
    "# seaborn.histplot(attn.detach().numpy()[0], palette='Set2')\n",
    "# plt.xlabel('Attention Coefficients')\n",
    "# plt.legend()\n",
    "# plt.show()\n",
    "# Inferences for the topK meta-path instances\n",
    "topk_idx = np.argsort(attns)[-5:][::-1]\n",
    "print('Top5 Attentions: {}'.format(attns[topk_idx]))\n",
    "print('Top5 Meta-path InstanIces:')\n",
    "metapath = pred_data.numpy().squeeze()\n",
    "attncoef = attn.detach().numpy()[0]\n",
    "pred_data.numpy().squeeze()[topk_idx]"
   ],
   "metadata": {
    "collapsed": false,
    "pycharm": {
     "name": "#%%\n"
    }
   }
  },
  {
   "cell_type": "code",
   "execution_count": 11,
   "outputs": [
    {
     "data": {
      "text/plain": "       CircRNA1    CircRNA2        Drug1     Drug2          Attn\n70   SNORD116-8       ACTG1    Bleomycin  BIX02189  4.857668e-01\n112  SNORD116-8        CFL1    Bleomycin  BIX02189  2.798525e-01\n322  SNORD116-8       ZFPL1    Bleomycin  BIX02189  7.376307e-02\n28   SNORD116-8  SNORD116-8    Bleomycin  BIX02189  6.620281e-02\n385  SNORD116-8       SNHG1    Bleomycin  BIX02189  4.579826e-02\n..          ...         ...          ...       ...           ...\n263  SNORD116-8        OAZ1  Midostaurin  BIX02189  2.325112e-25\n257  SNORD116-8        OAZ1     LY317615  BIX02189  1.864136e-25\n269  SNORD116-8        OAZ1      CX-5461  BIX02189  1.538952e-25\n265  SNORD116-8        OAZ1       681640  BIX02189  4.624017e-26\n272  SNORD116-8        OAZ1  Talazoparib  BIX02189  2.411883e-26\n\n[441 rows x 5 columns]",
      "text/html": "<div>\n<style scoped>\n    .dataframe tbody tr th:only-of-type {\n        vertical-align: middle;\n    }\n\n    .dataframe tbody tr th {\n        vertical-align: top;\n    }\n\n    .dataframe thead th {\n        text-align: right;\n    }\n</style>\n<table border=\"1\" class=\"dataframe\">\n  <thead>\n    <tr style=\"text-align: right;\">\n      <th></th>\n      <th>CircRNA1</th>\n      <th>CircRNA2</th>\n      <th>Drug1</th>\n      <th>Drug2</th>\n      <th>Attn</th>\n    </tr>\n  </thead>\n  <tbody>\n    <tr>\n      <th>70</th>\n      <td>SNORD116-8</td>\n      <td>ACTG1</td>\n      <td>Bleomycin</td>\n      <td>BIX02189</td>\n      <td>4.857668e-01</td>\n    </tr>\n    <tr>\n      <th>112</th>\n      <td>SNORD116-8</td>\n      <td>CFL1</td>\n      <td>Bleomycin</td>\n      <td>BIX02189</td>\n      <td>2.798525e-01</td>\n    </tr>\n    <tr>\n      <th>322</th>\n      <td>SNORD116-8</td>\n      <td>ZFPL1</td>\n      <td>Bleomycin</td>\n      <td>BIX02189</td>\n      <td>7.376307e-02</td>\n    </tr>\n    <tr>\n      <th>28</th>\n      <td>SNORD116-8</td>\n      <td>SNORD116-8</td>\n      <td>Bleomycin</td>\n      <td>BIX02189</td>\n      <td>6.620281e-02</td>\n    </tr>\n    <tr>\n      <th>385</th>\n      <td>SNORD116-8</td>\n      <td>SNHG1</td>\n      <td>Bleomycin</td>\n      <td>BIX02189</td>\n      <td>4.579826e-02</td>\n    </tr>\n    <tr>\n      <th>...</th>\n      <td>...</td>\n      <td>...</td>\n      <td>...</td>\n      <td>...</td>\n      <td>...</td>\n    </tr>\n    <tr>\n      <th>263</th>\n      <td>SNORD116-8</td>\n      <td>OAZ1</td>\n      <td>Midostaurin</td>\n      <td>BIX02189</td>\n      <td>2.325112e-25</td>\n    </tr>\n    <tr>\n      <th>257</th>\n      <td>SNORD116-8</td>\n      <td>OAZ1</td>\n      <td>LY317615</td>\n      <td>BIX02189</td>\n      <td>1.864136e-25</td>\n    </tr>\n    <tr>\n      <th>269</th>\n      <td>SNORD116-8</td>\n      <td>OAZ1</td>\n      <td>CX-5461</td>\n      <td>BIX02189</td>\n      <td>1.538952e-25</td>\n    </tr>\n    <tr>\n      <th>265</th>\n      <td>SNORD116-8</td>\n      <td>OAZ1</td>\n      <td>681640</td>\n      <td>BIX02189</td>\n      <td>4.624017e-26</td>\n    </tr>\n    <tr>\n      <th>272</th>\n      <td>SNORD116-8</td>\n      <td>OAZ1</td>\n      <td>Talazoparib</td>\n      <td>BIX02189</td>\n      <td>2.411883e-26</td>\n    </tr>\n  </tbody>\n</table>\n<p>441 rows × 5 columns</p>\n</div>"
     },
     "execution_count": 11,
     "metadata": {},
     "output_type": "execute_result"
    }
   ],
   "source": [
    "# Ensemble all generated meta-path instances\n",
    "# and their attention attention coefficients\n",
    "dr = pd.read_csv(f'dataset/{dataset}/gene_map.csv')\n",
    "di = pd.read_csv(f'dataset/{dataset}/drug_pubchem_map.csv')\n",
    "# dr = pd.read_csv(f'dataset/{dataset}/drug.csv')\n",
    "# di = pd.read_csv(f'dataset/{dataset}/disease.csv')\n",
    "mpac = []\n",
    "for i in range(len(metapath)):\n",
    "    new = []\n",
    "    for j in range(2):\n",
    "        new.append(dr.loc[metapath[i, j]].values[1])\n",
    "    for j in range(2, 4):\n",
    "        new.append(di.loc[metapath[i, j]].values[1])\n",
    "    new.append(attncoef[i][0])\n",
    "    mpac.append(new)\n",
    "df_mp = pd.DataFrame(np.array(mpac),\n",
    "                     columns=['CircRNA1',\n",
    "                              'CircRNA2', 'Drug1',\n",
    "                              'Drug2', 'Attn'])\n",
    "df1=pd.DataFrame(df_mp)\n",
    "\n",
    "df1.to_excel('df_mp.xlsx',index=False)\n",
    "df_mp['Attn'] = df_mp['Attn'].astype(float)\n",
    "df_mp = df_mp.sort_values(by='Attn', ascending=False)\n",
    "df_mp\n"
   ],
   "metadata": {
    "collapsed": false,
    "pycharm": {
     "name": "#%%\n"
    }
   }
  },
  {
   "cell_type": "code",
   "execution_count": 11,
   "outputs": [],
   "source": [],
   "metadata": {
    "collapsed": false,
    "pycharm": {
     "name": "#%%\n"
    }
   }
  }
 ],
 "metadata": {
  "kernelspec": {
   "display_name": "Python 3 (ipykernel)",
   "language": "python",
   "name": "python3"
  },
  "language_info": {
   "codemirror_mode": {
    "name": "ipython",
    "version": 3
   },
   "file_extension": ".py",
   "mimetype": "text/x-python",
   "name": "python",
   "nbconvert_exporter": "python",
   "pygments_lexer": "ipython3",
   "version": "3.7.10"
  }
 },
 "nbformat": 4,
 "nbformat_minor": 5
}